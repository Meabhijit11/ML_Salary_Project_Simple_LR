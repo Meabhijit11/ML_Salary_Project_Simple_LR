{
 "cells": [
  {
   "cell_type": "markdown",
   "id": "189ac604",
   "metadata": {},
   "source": [
    "# Simple Linear Regression of Salary Prediction"
   ]
  },
  {
   "cell_type": "code",
   "execution_count": 3,
   "id": "ea2a63a8",
   "metadata": {},
   "outputs": [],
   "source": [
    "import pandas as pd\n",
    "import numpy as np\n",
    "import seaborn as sns\n",
    "from sklearn.model_selection import train_test_split # creation of training and testing set\n",
    "from sklearn.linear_model import LinearRegression # model\n",
    "import matplotlib.pyplot as plt"
   ]
  },
  {
   "cell_type": "code",
   "execution_count": 5,
   "id": "187a90f0",
   "metadata": {},
   "outputs": [],
   "source": [
    "data = pd.read_csv(\"Salary_Data.csv\")     # Import the CSV file & store in a variable called - data"
   ]
  },
  {
   "cell_type": "code",
   "execution_count": 7,
   "id": "000e06b0",
   "metadata": {},
   "outputs": [
    {
     "data": {
      "text/html": [
       "<div>\n",
       "<style scoped>\n",
       "    .dataframe tbody tr th:only-of-type {\n",
       "        vertical-align: middle;\n",
       "    }\n",
       "\n",
       "    .dataframe tbody tr th {\n",
       "        vertical-align: top;\n",
       "    }\n",
       "\n",
       "    .dataframe thead th {\n",
       "        text-align: right;\n",
       "    }\n",
       "</style>\n",
       "<table border=\"1\" class=\"dataframe\">\n",
       "  <thead>\n",
       "    <tr style=\"text-align: right;\">\n",
       "      <th></th>\n",
       "      <th>YearsExperience</th>\n",
       "      <th>Salary</th>\n",
       "    </tr>\n",
       "  </thead>\n",
       "  <tbody>\n",
       "    <tr>\n",
       "      <th>0</th>\n",
       "      <td>1.1</td>\n",
       "      <td>39343.0</td>\n",
       "    </tr>\n",
       "    <tr>\n",
       "      <th>1</th>\n",
       "      <td>1.3</td>\n",
       "      <td>46205.0</td>\n",
       "    </tr>\n",
       "    <tr>\n",
       "      <th>2</th>\n",
       "      <td>1.5</td>\n",
       "      <td>37731.0</td>\n",
       "    </tr>\n",
       "    <tr>\n",
       "      <th>3</th>\n",
       "      <td>2.0</td>\n",
       "      <td>43525.0</td>\n",
       "    </tr>\n",
       "    <tr>\n",
       "      <th>4</th>\n",
       "      <td>2.2</td>\n",
       "      <td>39891.0</td>\n",
       "    </tr>\n",
       "  </tbody>\n",
       "</table>\n",
       "</div>"
      ],
      "text/plain": [
       "   YearsExperience   Salary\n",
       "0              1.1  39343.0\n",
       "1              1.3  46205.0\n",
       "2              1.5  37731.0\n",
       "3              2.0  43525.0\n",
       "4              2.2  39891.0"
      ]
     },
     "execution_count": 7,
     "metadata": {},
     "output_type": "execute_result"
    }
   ],
   "source": [
    "data.head()         # See the first 5 entries from dataset"
   ]
  },
  {
   "cell_type": "code",
   "execution_count": 8,
   "id": "8a162b09",
   "metadata": {},
   "outputs": [
    {
     "name": "stdout",
     "output_type": "stream",
     "text": [
      "<class 'pandas.core.frame.DataFrame'>\n",
      "RangeIndex: 30 entries, 0 to 29\n",
      "Data columns (total 2 columns):\n",
      " #   Column           Non-Null Count  Dtype  \n",
      "---  ------           --------------  -----  \n",
      " 0   YearsExperience  30 non-null     float64\n",
      " 1   Salary           30 non-null     float64\n",
      "dtypes: float64(2)\n",
      "memory usage: 608.0 bytes\n"
     ]
    }
   ],
   "source": [
    "data.info()"
   ]
  },
  {
   "cell_type": "code",
   "execution_count": 10,
   "id": "60a7c24d",
   "metadata": {},
   "outputs": [
    {
     "data": {
      "text/plain": [
       "(30, 2)"
      ]
     },
     "execution_count": 10,
     "metadata": {},
     "output_type": "execute_result"
    }
   ],
   "source": [
    "data.shape"
   ]
  },
  {
   "cell_type": "markdown",
   "id": "50dfbe87",
   "metadata": {},
   "source": [
    "There are 30 rows & 2 column in my dataset"
   ]
  },
  {
   "cell_type": "code",
   "execution_count": 11,
   "id": "b71589c5",
   "metadata": {},
   "outputs": [
    {
     "data": {
      "text/plain": [
       "<seaborn.axisgrid.FacetGrid at 0x27a0c69dd90>"
      ]
     },
     "execution_count": 11,
     "metadata": {},
     "output_type": "execute_result"
    },
    {
     "data": {
      "image/png": "[encoded data removed]",
      "text/plain": [
       "<Figure size 360x360 with 1 Axes>"
      ]
     },
     "metadata": {
      "needs_background": "light"
     },
     "output_type": "display_data"
    }
   ],
   "source": [
    "sns.relplot(x=\"YearsExperience\",y=\"Salary\",data=data)"
   ]
  },
  {
   "cell_type": "markdown",
   "id": "187123c8",
   "metadata": {},
   "source": [
    "This is just simple scatter plot of our data points & here we can see the nature of our dataset is Linear"
   ]
  },
  {
   "cell_type": "code",
   "execution_count": 17,
   "id": "d83c1fab",
   "metadata": {},
   "outputs": [],
   "source": [
    "y = data[\"Salary\"]    # Dependent variable (That I want to predict)\n",
    "\n",
    "x = data[\"YearsExperience\"]    # Independant variable, it helps in prediction of Dependent variable"
   ]
  },
  {
   "cell_type": "markdown",
   "id": "851b40c0",
   "metadata": {},
   "source": [
    "Here Dependent variable is - \"Salary\" & Independant variable is \"YearsExperience\" & he have split our data according to that & store in a variable \"x\" & \"y\""
   ]
  },
  {
   "cell_type": "code",
   "execution_count": 18,
   "id": "ba52881d",
   "metadata": {},
   "outputs": [
    {
     "data": {
      "text/plain": [
       "(30,)"
      ]
     },
     "execution_count": 18,
     "metadata": {},
     "output_type": "execute_result"
    }
   ],
   "source": [
    "y.shape # 1 D data"
   ]
  },
  {
   "cell_type": "code",
   "execution_count": 27,
   "id": "c5909875",
   "metadata": {},
   "outputs": [],
   "source": [
    "x_matrix = x.values.reshape(-1,1) # converting data to 2-D , because sklearn required atleast 2 D data"
   ]
  },
  {
   "cell_type": "code",
   "execution_count": 69,
   "id": "8372f3b6",
   "metadata": {},
   "outputs": [],
   "source": [
    "# Splitting the dataset into training and test set.  \n",
    "\n",
    "from sklearn.model_selection import train_test_split  \n",
    "x_train, x_test, y_train, y_test= train_test_split(x_matrix, y, test_size= 0.3, random_state=0) "
   ]
  },
  {
   "cell_type": "markdown",
   "id": "1529e7a1",
   "metadata": {},
   "source": [
    "Next, we will split both variables into the test set and training set. Here we will take 70% observations for the training set and 30% observations for the test set. We are splitting our dataset so that we can train our model using a training dataset and then test the model using a test dataset."
   ]
  },
  {
   "cell_type": "code",
   "execution_count": 70,
   "id": "86bc2548",
   "metadata": {},
   "outputs": [
    {
     "data": {
      "text/plain": [
       "array([[ 7.9],\n",
       "       [ 2.9],\n",
       "       [ 5.1],\n",
       "       [ 3.2],\n",
       "       [ 4.5],\n",
       "       [ 8.2],\n",
       "       [ 6.8],\n",
       "       [ 1.3],\n",
       "       [10.5],\n",
       "       [ 3. ],\n",
       "       [ 2.2],\n",
       "       [ 5.9],\n",
       "       [ 6. ],\n",
       "       [ 3.7],\n",
       "       [ 3.2],\n",
       "       [ 9. ],\n",
       "       [ 2. ],\n",
       "       [ 1.1],\n",
       "       [ 7.1],\n",
       "       [ 4.9],\n",
       "       [ 4. ]])"
      ]
     },
     "execution_count": 70,
     "metadata": {},
     "output_type": "execute_result"
    }
   ],
   "source": [
    "x_train"
   ]
  },
  {
   "cell_type": "code",
   "execution_count": 71,
   "id": "2a6cd986",
   "metadata": {},
   "outputs": [
    {
     "data": {
      "text/plain": [
       "array([[ 1.5],\n",
       "       [10.3],\n",
       "       [ 4.1],\n",
       "       [ 3.9],\n",
       "       [ 9.5],\n",
       "       [ 8.7],\n",
       "       [ 9.6],\n",
       "       [ 4. ],\n",
       "       [ 5.3]])"
      ]
     },
     "execution_count": 71,
     "metadata": {},
     "output_type": "execute_result"
    }
   ],
   "source": [
    "x_test"
   ]
  },
  {
   "cell_type": "code",
   "execution_count": 72,
   "id": "ba832fcd",
   "metadata": {},
   "outputs": [
    {
     "data": {
      "text/plain": [
       "22    101302.0\n",
       "5      56642.0\n",
       "16     66029.0\n",
       "8      64445.0\n",
       "14     61111.0\n",
       "23    113812.0\n",
       "20     91738.0\n",
       "1      46205.0\n",
       "29    121872.0\n",
       "6      60150.0\n",
       "4      39891.0\n",
       "18     81363.0\n",
       "19     93940.0\n",
       "9      57189.0\n",
       "7      54445.0\n",
       "25    105582.0\n",
       "3      43525.0\n",
       "0      39343.0\n",
       "21     98273.0\n",
       "15     67938.0\n",
       "12     56957.0\n",
       "Name: Salary, dtype: float64"
      ]
     },
     "execution_count": 72,
     "metadata": {},
     "output_type": "execute_result"
    }
   ],
   "source": [
    "y_train"
   ]
  },
  {
   "cell_type": "code",
   "execution_count": 73,
   "id": "01813eb7",
   "metadata": {},
   "outputs": [
    {
     "data": {
      "text/plain": [
       "2      37731.0\n",
       "28    122391.0\n",
       "13     57081.0\n",
       "10     63218.0\n",
       "26    116969.0\n",
       "24    109431.0\n",
       "27    112635.0\n",
       "11     55794.0\n",
       "17     83088.0\n",
       "Name: Salary, dtype: float64"
      ]
     },
     "execution_count": 73,
     "metadata": {},
     "output_type": "execute_result"
    }
   ],
   "source": [
    "y_test"
   ]
  },
  {
   "cell_type": "code",
   "execution_count": 74,
   "id": "b75208e3",
   "metadata": {},
   "outputs": [
    {
     "data": {
      "text/plain": [
       "LinearRegression()"
      ]
     },
     "execution_count": 74,
     "metadata": {},
     "output_type": "execute_result"
    }
   ],
   "source": [
    "#Fitting the Simple Linear Regression model to the training dataset \n",
    "\n",
    "from sklearn.linear_model import LinearRegression  \n",
    "lin_proj = LinearRegression()  \n",
    "lin_proj.fit(x_train, y_train) "
   ]
  },
  {
   "cell_type": "markdown",
   "id": "cc4cab90",
   "metadata": {},
   "source": [
    "In the above code we have used Imported Linear Regression to train our model , the reason behind for choosing Linear regression is that , our dataset has only 1 Dependent variable & 1 Independent variable ."
   ]
  },
  {
   "cell_type": "code",
   "execution_count": 75,
   "id": "8f927fe4",
   "metadata": {},
   "outputs": [],
   "source": [
    "#Prediction of Test and Training set result  \n",
    "y_pred= lin_proj.predict(x_test)  \n",
    "x_pred= lin_proj.predict(x_train)"
   ]
  },
  {
   "cell_type": "code",
   "execution_count": 76,
   "id": "22b54482",
   "metadata": {},
   "outputs": [
    {
     "data": {
      "text/plain": [
       "array([ 40817.78327049, 123188.08258899,  65154.46261459,  63282.41035735,\n",
       "       115699.87356004, 108211.66453108, 116635.89968866,  64218.43648597,\n",
       "        76386.77615802])"
      ]
     },
     "execution_count": 76,
     "metadata": {},
     "output_type": "execute_result"
    }
   ],
   "source": [
    "y_pred"
   ]
  },
  {
   "cell_type": "code",
   "execution_count": 77,
   "id": "01530c95",
   "metadata": {},
   "outputs": [
    {
     "data": {
      "text/plain": [
       "array([100723.45550213,  53922.14907116,  74514.72390079,  56730.22745702,\n",
       "        68898.56712907, 103531.53388799,  90427.16808731,  38945.73101325,\n",
       "       125060.13484623,  54858.17519978,  47369.96617082,  82002.93292974,\n",
       "        82938.95905836,  61410.35810011,  56730.22745702, 111019.74291694,\n",
       "        45497.91391358,  37073.67875601,  93235.24647317,  72642.67164355,\n",
       "        64218.43648597])"
      ]
     },
     "execution_count": 77,
     "metadata": {},
     "output_type": "execute_result"
    }
   ],
   "source": [
    "x_pred"
   ]
  },
  {
   "cell_type": "markdown",
   "id": "aa97fd07",
   "metadata": {},
   "source": [
    "# Test our Model"
   ]
  },
  {
   "cell_type": "code",
   "execution_count": 78,
   "id": "e310783b",
   "metadata": {},
   "outputs": [
    {
     "data": {
      "text/plain": [
       "array([167181.3106341])"
      ]
     },
     "execution_count": 78,
     "metadata": {},
     "output_type": "execute_result"
    }
   ],
   "source": [
    "lin_proj.predict(np.array(15).reshape(-1,1)) "
   ]
  },
  {
   "cell_type": "markdown",
   "id": "fc75e1f2",
   "metadata": {},
   "source": [
    "In the above code , I have test my model by asking salary of person who has 15 years of experiance , & model is giving me a predicted Salary is about 167181"
   ]
  },
  {
   "cell_type": "code",
   "execution_count": 79,
   "id": "36c82ea5",
   "metadata": {},
   "outputs": [
    {
     "data": {
      "text/plain": [
       "0.9423777652193379"
      ]
     },
     "execution_count": 79,
     "metadata": {},
     "output_type": "execute_result"
    }
   ],
   "source": [
    "lin_proj.score(x_train,y_train)"
   ]
  },
  {
   "cell_type": "code",
   "execution_count": 80,
   "id": "0d9f4ea4",
   "metadata": {},
   "outputs": [
    {
     "data": {
      "text/plain": [
       "0.9740993407213511"
      ]
     },
     "execution_count": 80,
     "metadata": {},
     "output_type": "execute_result"
    }
   ],
   "source": [
    "lin_proj.score(x_test,y_test)"
   ]
  },
  {
   "cell_type": "markdown",
   "id": "da402d09",
   "metadata": {},
   "source": [
    "The above score tells that our model is 94% accurate with the training dataset and 97% accurate with the test dataset."
   ]
  },
  {
   "cell_type": "code",
   "execution_count": 85,
   "id": "84abcf58",
   "metadata": {},
   "outputs": [],
   "source": [
    "all_pred = lin_proj.predict(x_matrix)    # Predicted for all values"
   ]
  },
  {
   "cell_type": "code",
   "execution_count": 86,
   "id": "003706d1",
   "metadata": {},
   "outputs": [
    {
     "data": {
      "text/plain": [
       "[<matplotlib.lines.Line2D at 0x27a10d8a100>]"
      ]
     },
     "execution_count": 86,
     "metadata": {},
     "output_type": "execute_result"
    },
    {
     "data": {
      "image/png": "[encoded data removed]",
      "text/plain": [
       "<Figure size 432x288 with 1 Axes>"
      ]
     },
     "metadata": {
      "needs_background": "light"
     },
     "output_type": "display_data"
    }
   ],
   "source": [
    "data.plot(kind=\"scatter\",x=\"YearsExperience\",y=\"Salary\") # scatter plot\n",
    "plt.plot(x,all_pred,c=\"red\",linewidth=2) # drawing the best fit line"
   ]
  },
  {
   "cell_type": "code",
   "execution_count": 88,
   "id": "c98e37df",
   "metadata": {},
   "outputs": [
    {
     "data": {
      "image/png": "[encoded data removed]",
      "text/plain": [
       "<Figure size 432x288 with 1 Axes>"
      ]
     },
     "metadata": {
      "needs_background": "light"
     },
     "output_type": "display_data"
    }
   ],
   "source": [
    "#visualizing the Train set results \n",
    "\n",
    "plt.scatter(x_train, y_train, color=\"green\")   \n",
    "plt.plot(x_train, x_pred, color=\"red\")    \n",
    "plt.title(\"Salary vs Experience (Training Dataset)\")  \n",
    "plt.xlabel(\"Years of Experience\")  \n",
    "plt.ylabel(\"Salary (In Rupees)\")  \n",
    "plt.show() "
   ]
  },
  {
   "cell_type": "code",
   "execution_count": 89,
   "id": "c37e19ff",
   "metadata": {},
   "outputs": [
    {
     "data": {
      "image/png": "[encoded data removed]",
      "text/plain": [
       "<Figure size 432x288 with 1 Axes>"
      ]
     },
     "metadata": {
      "needs_background": "light"
     },
     "output_type": "display_data"
    }
   ],
   "source": [
    "#visualizing the Test set results  \n",
    "\n",
    "plt.scatter(x_test, y_test, color=\"blue\")   \n",
    "plt.plot(x_train, x_pred, color=\"red\")    \n",
    "plt.title(\"Salary vs Experience (Test Dataset)\")  \n",
    "plt.xlabel(\"Years of Experience\")  \n",
    "plt.ylabel(\"Salary(In Rupees)\")  \n",
    "plt.show() "
   ]
  },
  {
   "cell_type": "code",
   "execution_count": 97,
   "id": "d8e5466d",
   "metadata": {},
   "outputs": [],
   "source": [
    "from sklearn.metrics import mean_squared_error\n",
    "\n",
    "mse=mean_squared_error(y_train,x_train)"
   ]
  },
  {
   "cell_type": "code",
   "execution_count": 98,
   "id": "1425b7e6",
   "metadata": {},
   "outputs": [
    {
     "data": {
      "text/plain": [
       "5859674532.540477"
      ]
     },
     "execution_count": 98,
     "metadata": {},
     "output_type": "execute_result"
    }
   ],
   "source": [
    "mse"
   ]
  },
  {
   "cell_type": "code",
   "execution_count": 99,
   "id": "d8936999",
   "metadata": {},
   "outputs": [],
   "source": [
    "mse_test=mean_squared_error(y_test,y_pred)     # calculated for testing mse value"
   ]
  },
  {
   "cell_type": "code",
   "execution_count": 100,
   "id": "ef6d4f71",
   "metadata": {},
   "outputs": [
    {
     "data": {
      "text/plain": [
       "23370078.800832972"
      ]
     },
     "execution_count": 100,
     "metadata": {},
     "output_type": "execute_result"
    }
   ],
   "source": [
    "mse_test"
   ]
  },
  {
   "cell_type": "code",
   "execution_count": 101,
   "id": "add321a8",
   "metadata": {},
   "outputs": [],
   "source": [
    "from math import sqrt "
   ]
  },
  {
   "cell_type": "code",
   "execution_count": 102,
   "id": "c827b6ee",
   "metadata": {},
   "outputs": [
    {
     "data": {
      "text/plain": [
       "4834.260936361728"
      ]
     },
     "execution_count": 102,
     "metadata": {},
     "output_type": "execute_result"
    }
   ],
   "source": [
    "rms_test = sqrt(mse_test)  # calculated for testing rms_test value\n",
    "rms_test"
   ]
  },
  {
   "cell_type": "code",
   "execution_count": null,
   "id": "868d6e8a",
   "metadata": {},
   "outputs": [],
   "source": []
  },
  {
   "cell_type": "code",
   "execution_count": 103,
   "id": "50d3de18",
   "metadata": {},
   "outputs": [],
   "source": [
    "import pickle as pk     # to save the model"
   ]
  },
  {
   "cell_type": "code",
   "execution_count": 105,
   "id": "29989882",
   "metadata": {},
   "outputs": [],
   "source": [
    "filename = \"linear_proj.pk\"\n",
    "\n",
    "pk.dump(lin_proj,open(filename,\"wb\"))     # wb = write binaries"
   ]
  },
  {
   "cell_type": "code",
   "execution_count": null,
   "id": "a4592bb8",
   "metadata": {},
   "outputs": [],
   "source": []
  }
 ],
 "metadata": {
  "kernelspec": {
   "display_name": "Python 3 (ipykernel)",
   "language": "python",
   "name": "python3"
  },
  "language_info": {
   "codemirror_mode": {
    "name": "ipython",
    "version": 3
   },
   "file_extension": ".py",
   "mimetype": "text/x-python",
   "name": "python",
   "nbconvert_exporter": "python",
   "pygments_lexer": "ipython3",
   "version": "3.8.12"
  }
 },
 "nbformat": 4,
 "nbformat_minor": 5
}
